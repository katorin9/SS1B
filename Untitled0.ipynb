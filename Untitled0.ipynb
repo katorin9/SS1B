{
  "nbformat": 4,
  "nbformat_minor": 0,
  "metadata": {
    "colab": {
      "name": "Untitled0.ipynb",
      "provenance": [],
      "authorship_tag": "ABX9TyPSTkwLjUHICawjlohv3oSD",
      "include_colab_link": true
    },
    "kernelspec": {
      "name": "python3",
      "display_name": "Python 3"
    },
    "language_info": {
      "name": "python"
    }
  },
  "cells": [
    {
      "cell_type": "markdown",
      "metadata": {
        "id": "view-in-github",
        "colab_type": "text"
      },
      "source": [
        "<a href=\"https://colab.research.google.com/github/katorin9/SS1B/blob/main/Untitled0.ipynb\" target=\"_parent\"><img src=\"https://colab.research.google.com/assets/colab-badge.svg\" alt=\"Open In Colab\"/></a>"
      ]
    },
    {
      "cell_type": "code",
      "metadata": {
        "id": "pQnaslk3eIpC"
      },
      "source": [
        "import requests\n",
        "import json\n",
        "import time\n",
        "import numpy as np\n",
        "import cv2\n",
        "from datetime import datetime\n",
        "import matplotlib.pyplot as plt\n",
        "import pandas as pd\n",
        "\n",
        "##初期設定\n",
        "cap=cv2.VideoCapture(0) #0にするとmacbookのカメラ、1にすると外付けのUSBカメラにできる\n",
        "csv_name = datetime.now().strftime('%Y%m%d_%H%M')#csvファイルとして保存するファイル名\n",
        "data_name = [\"anger\",\"contempt\",\"disgust\",\"fear\",\"happiness\",'sadness','surprise']#保存データの系列\n",
        "emotion_data =[0,0,0,0,0,0,0]#初期値\n",
        "count = 0#撮影回数を示すカウンタ\n",
        "\n",
        "##顔認識の設定\n",
        "cascade_path =  '/**********************************/haarcascade_frontalface_alt.xml'# 顔判定で使うxmlファイルを指定する。(opencvのpathを指定)\n",
        "cascade = cv2.CascadeClassifier(cascade_path)\n",
        "\n",
        "##Faceの設定\n",
        "subscription_key = 'd29904552bd84c80ad08eb88530f91a6'#ここに取得したキー１を入力\n",
        "assert subscription_key\n",
        "face_api_url = 'https://katourin.cognitiveservices.azure.com/'#ここに取得したエンドポイントのURLを入力\n",
        "\n",
        "##実行\n",
        "while True:\n",
        "    r, img = cap.read()\n",
        "    img_gray = cv2.cvtColor(img, cv2.COLOR_BGR2GRAY)#グレースケールに変換\n",
        "    faces=cascade.detectMultiScale(img_gray, scaleFactor=1.1, minNeighbors=1, minSize=(100, 100))#顔判定 minSizeで顔判定する際の最小の四角の大きさを指定できる。(小さい値を指定し過ぎると顔っぽい小さなシミのような部分も判定されてしまう。)\n",
        "\n",
        "    if len(faces) > 0: #顔を検出した場合\n",
        "        for face in faces:\n",
        "            now = datetime.now()#撮影時間\n",
        "            filename = str(now)+'.jpg'#保存するfilename\n",
        "            cv2.imwrite(filename, img)#画像の書き出し\n",
        "\n",
        "            image_data = open(filename, \"rb\").read()#処理をする画像を選択\n",
        "            headers = {'Ocp-Apim-Subscription-Key': subscription_key,\n",
        "                       'Content-Type': 'application/octet-stream'}\n",
        "            params = {\n",
        "                'returnFaceId': 'true',\n",
        "                'returnFaceLandmarks': 'false',\n",
        "                'returnFaceAttributes': 'age,gender,headPose,smile,facialHair,glasses,emotion,hair,makeup,occlusion,accessories,blur,exposure,noise',\n",
        "                }\n",
        "            response = requests.post(face_api_url, headers=headers,\n",
        "                                        params=params, data=image_data)#FaceAPIで解析\n",
        "\n",
        "            response.raise_for_status()\n",
        "            analysis = response.json()#json出力\n",
        "\n",
        "            #faceのjsonから抽出する項目をピック\n",
        "            result = [analysis[0]['faceAttributes']['emotion']['anger'],analysis[0]['faceAttributes']['emotion']['contempt'],\n",
        "                        analysis[0]['faceAttributes']['emotion']['disgust'],analysis[0]['faceAttributes']['emotion']['fear'],\n",
        "                        analysis[0]['faceAttributes']['emotion']['happiness'],analysis[0]['faceAttributes']['emotion']['sadness'],\n",
        "                        analysis[0]['faceAttributes']['emotion']['surprise']]\n",
        "\n",
        "            emotion_data = np.array(result) + np.array(emotion_data)\n",
        "\n",
        "            df = pd.DataFrame({now:emotion_data},\n",
        "                            index=data_name)#取得データをDataFrame1に変換しdfとして定義\n",
        "\n",
        "            if count == 0:#初期\n",
        "                print(df)\n",
        "            else:\n",
        "                df = pd.concat([df_past,df],axis = 1, sort = False)#dfを更新\n",
        "                print(df)\n",
        "\n",
        "            plt.plot(df.T)#dfの行列を反転\n",
        "            plt.legend(data_name)#凡例を表示\n",
        "            plt.draw()#グラフ描画\n",
        "            plt.pause(4)#ウェイト時間（=Azure更新時間）\n",
        "            plt.cla()#グラフを閉じる\n",
        "\n",
        "            count = count + 1#撮影回数の更新\n",
        "            df_past = df#df_pastを更新\n",
        "\n",
        "            df.T.to_csv(csv_name+'.csv')#感情分析結果をcsvファイルとして書き出し"
      ],
      "execution_count": null,
      "outputs": []
    }
  ]
}